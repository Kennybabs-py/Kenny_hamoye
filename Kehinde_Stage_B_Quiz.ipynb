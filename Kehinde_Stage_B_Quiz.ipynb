{
 "cells": [
  {
   "cell_type": "code",
   "execution_count": 83,
   "id": "18dbc697",
   "metadata": {},
   "outputs": [],
   "source": [
    "import numpy as np\n",
    "import pandas as pd\n",
    "import seaborn as sns\n",
    "energydata = pd.read_csv('energydata_complete.csv')\n",
    "# energydata.head()\n"
   ]
  },
  {
   "cell_type": "code",
   "execution_count": 84,
   "id": "5838e436",
   "metadata": {},
   "outputs": [
    {
     "data": {
      "text/plain": [
       "<AxesSubplot:xlabel='T1', ylabel='Appliances'>"
      ]
     },
     "execution_count": 84,
     "metadata": {},
     "output_type": "execute_result"
    },
    {
     "data": {
      "image/png": "[encoded data removed]",
      "text/plain": [
       "<Figure size 432x288 with 1 Axes>"
      ]
     },
     "metadata": {
      "needs_background": "light"
     },
     "output_type": "display_data"
    }
   ],
   "source": [
    "simple_plot = energydata[['T1','Appliances']].sample(15, random_state=2)\n",
    "\n",
    "# Regression plot\n",
    "sns.regplot(x=\"T1\", y=\"Appliances\", data=simple_plot)"
   ]
  },
  {
   "cell_type": "code",
   "execution_count": 85,
   "id": "bd41fa04",
   "metadata": {},
   "outputs": [
    {
     "data": {
      "text/plain": [
       "0.65"
      ]
     },
     "execution_count": 85,
     "metadata": {},
     "output_type": "execute_result"
    }
   ],
   "source": [
    "from sklearn.model_selection import train_test_split\n",
    "from sklearn.linear_model import LinearRegression\n",
    "\n",
    "T2 = energydata[['T2']]\n",
    "T6 = energydata[['T6']]\n",
    "\n",
    "x_train, x_test, y_train, y_test = train_test_split(T2, T6, test_size= 0.3, random_state= 1)\n",
    "linear_model = LinearRegression()\n",
    "# Fit the model to the training dataset\n",
    "linear_model.fit(x_train, y_train)\n",
    "# Obtain predictions\n",
    "predicted_values = linear_model.predict(x_test)\n",
    "\n",
    "from sklearn.metrics import r2_score\n",
    "r2_score = r2_score(y_test, predicted_values)\n",
    "round(r2_score, 2)\n"
   ]
  },
  {
   "cell_type": "code",
   "execution_count": 86,
   "id": "ba27c825",
   "metadata": {},
   "outputs": [
    {
     "data": {
      "text/plain": [
       "0.0"
      ]
     },
     "execution_count": 86,
     "metadata": {},
     "output_type": "execute_result"
    }
   ],
   "source": [
    "from sklearn.preprocessing import MinMaxScaler\n",
    "scaler = MinMaxScaler()\n",
    "energydata_new = energydata.drop(columns=['date','lights'])\n",
    "normalised_data = pd.DataFrame(scaler.fit_transform(energydata_new), columns=energydata_new.columns)\n",
    "normalised_data['Appliances']\n",
    "\n",
    "target_data = energydata_new['Appliances']\n",
    "\n",
    "\n",
    "x_train, x_test, y_train, y_test = train_test_split(normalised_data, target_data, test_size= 0.3, random_state=42)\n",
    "\n",
    "linear_model = LinearRegression()\n",
    "linear_model.fit(x_train, y_train)\n",
    "\n",
    "\n",
    "predicted_values = linear_model.predict(x_test)\n",
    "\n",
    "from sklearn.metrics import mean_absolute_error\n",
    "mae = mean_absolute_error(y_test, predicted_values)\n",
    "round(mae, 2)\n"
   ]
  },
  {
   "cell_type": "code",
   "execution_count": 87,
   "id": "f8a168a9",
   "metadata": {},
   "outputs": [
    {
     "data": {
      "text/plain": [
       "0.0"
      ]
     },
     "execution_count": 87,
     "metadata": {},
     "output_type": "execute_result"
    }
   ],
   "source": [
    "import numpy as np\n",
    "rss = np.sum(np.square(y_test - predicted_values))\n",
    "round(rss, 3)"
   ]
  },
  {
   "cell_type": "code",
   "execution_count": 88,
   "id": "a0773e0d",
   "metadata": {},
   "outputs": [
    {
     "data": {
      "text/plain": [
       "0.0"
      ]
     },
     "execution_count": 88,
     "metadata": {},
     "output_type": "execute_result"
    }
   ],
   "source": [
    "from sklearn.metrics import mean_squared_error\n",
    "rmse = np.sqrt(mean_squared_error(y_test, predicted_values))\n",
    "round(rmse, 3)"
   ]
  },
  {
   "cell_type": "code",
   "execution_count": 96,
   "id": "05532ad9",
   "metadata": {},
   "outputs": [
    {
     "data": {
      "text/plain": [
       "1.0"
      ]
     },
     "execution_count": 96,
     "metadata": {},
     "output_type": "execute_result"
    }
   ],
   "source": [
    "from sklearn.metrics import r2_score\n",
    "r2_score = r2_score(y_test, predicted_values)\n",
    "round(r2_score, 2)"
   ]
  },
  {
   "cell_type": "code",
   "execution_count": 89,
   "id": "99e04268",
   "metadata": {},
   "outputs": [],
   "source": [
    "def get_weights_energydata(model, feat, col_name) :\n",
    "#this function returns the weight of every feature\n",
    "    weights = pd.Series(model.coef_, feat.columns).sort_values()\n",
    "    weights_energydata = pd.DataFrame(weights).reset_index()\n",
    "    weights_energydata.columns = ['Features', col_name]\n",
    "    weights_energydata[col_name].round(3)\n",
    "    return weights_energydata"
   ]
  },
  {
   "cell_type": "code",
   "execution_count": 90,
   "id": "3517ac87",
   "metadata": {},
   "outputs": [
    {
     "data": {
      "text/html": [
       "<div>\n",
       "<style scoped>\n",
       "    .dataframe tbody tr th:only-of-type {\n",
       "        vertical-align: middle;\n",
       "    }\n",
       "\n",
       "    .dataframe tbody tr th {\n",
       "        vertical-align: top;\n",
       "    }\n",
       "\n",
       "    .dataframe thead th {\n",
       "        text-align: right;\n",
       "    }\n",
       "</style>\n",
       "<table border=\"1\" class=\"dataframe\">\n",
       "  <thead>\n",
       "    <tr style=\"text-align: right;\">\n",
       "      <th></th>\n",
       "      <th>Features</th>\n",
       "      <th>Linear_Model_Weight</th>\n",
       "    </tr>\n",
       "  </thead>\n",
       "  <tbody>\n",
       "    <tr>\n",
       "      <th>0</th>\n",
       "      <td>T2</td>\n",
       "      <td>-3.867964e-13</td>\n",
       "    </tr>\n",
       "    <tr>\n",
       "      <th>1</th>\n",
       "      <td>RH_2</td>\n",
       "      <td>-3.323334e-13</td>\n",
       "    </tr>\n",
       "    <tr>\n",
       "      <th>2</th>\n",
       "      <td>RH_6</td>\n",
       "      <td>-3.228580e-13</td>\n",
       "    </tr>\n",
       "    <tr>\n",
       "      <th>3</th>\n",
       "      <td>RH_3</td>\n",
       "      <td>-2.729098e-13</td>\n",
       "    </tr>\n",
       "    <tr>\n",
       "      <th>4</th>\n",
       "      <td>T8</td>\n",
       "      <td>-2.719114e-13</td>\n",
       "    </tr>\n",
       "    <tr>\n",
       "      <th>5</th>\n",
       "      <td>Press_mm_hg</td>\n",
       "      <td>-2.583051e-13</td>\n",
       "    </tr>\n",
       "    <tr>\n",
       "      <th>6</th>\n",
       "      <td>T3</td>\n",
       "      <td>-1.918566e-13</td>\n",
       "    </tr>\n",
       "    <tr>\n",
       "      <th>7</th>\n",
       "      <td>T_out</td>\n",
       "      <td>-1.670122e-13</td>\n",
       "    </tr>\n",
       "    <tr>\n",
       "      <th>8</th>\n",
       "      <td>T9</td>\n",
       "      <td>-1.492419e-13</td>\n",
       "    </tr>\n",
       "    <tr>\n",
       "      <th>9</th>\n",
       "      <td>RH_1</td>\n",
       "      <td>-8.888666e-14</td>\n",
       "    </tr>\n",
       "    <tr>\n",
       "      <th>10</th>\n",
       "      <td>Visibility</td>\n",
       "      <td>-8.050658e-14</td>\n",
       "    </tr>\n",
       "    <tr>\n",
       "      <th>11</th>\n",
       "      <td>RH_4</td>\n",
       "      <td>-6.243612e-14</td>\n",
       "    </tr>\n",
       "    <tr>\n",
       "      <th>12</th>\n",
       "      <td>RH_out</td>\n",
       "      <td>-4.161720e-14</td>\n",
       "    </tr>\n",
       "    <tr>\n",
       "      <th>13</th>\n",
       "      <td>T4</td>\n",
       "      <td>2.446370e-14</td>\n",
       "    </tr>\n",
       "    <tr>\n",
       "      <th>14</th>\n",
       "      <td>RH_7</td>\n",
       "      <td>3.947611e-14</td>\n",
       "    </tr>\n",
       "    <tr>\n",
       "      <th>15</th>\n",
       "      <td>rv2</td>\n",
       "      <td>4.777744e-14</td>\n",
       "    </tr>\n",
       "    <tr>\n",
       "      <th>16</th>\n",
       "      <td>rv1</td>\n",
       "      <td>4.777744e-14</td>\n",
       "    </tr>\n",
       "    <tr>\n",
       "      <th>17</th>\n",
       "      <td>Tdewpoint</td>\n",
       "      <td>7.637081e-14</td>\n",
       "    </tr>\n",
       "    <tr>\n",
       "      <th>18</th>\n",
       "      <td>Windspeed</td>\n",
       "      <td>7.806422e-14</td>\n",
       "    </tr>\n",
       "    <tr>\n",
       "      <th>19</th>\n",
       "      <td>T5</td>\n",
       "      <td>1.018213e-13</td>\n",
       "    </tr>\n",
       "    <tr>\n",
       "      <th>20</th>\n",
       "      <td>T7</td>\n",
       "      <td>1.039729e-13</td>\n",
       "    </tr>\n",
       "    <tr>\n",
       "      <th>21</th>\n",
       "      <td>T1</td>\n",
       "      <td>1.145308e-13</td>\n",
       "    </tr>\n",
       "    <tr>\n",
       "      <th>22</th>\n",
       "      <td>RH_5</td>\n",
       "      <td>1.201787e-13</td>\n",
       "    </tr>\n",
       "    <tr>\n",
       "      <th>23</th>\n",
       "      <td>T6</td>\n",
       "      <td>2.312700e-13</td>\n",
       "    </tr>\n",
       "    <tr>\n",
       "      <th>24</th>\n",
       "      <td>RH_9</td>\n",
       "      <td>2.329459e-13</td>\n",
       "    </tr>\n",
       "    <tr>\n",
       "      <th>25</th>\n",
       "      <td>RH_8</td>\n",
       "      <td>4.025120e-13</td>\n",
       "    </tr>\n",
       "    <tr>\n",
       "      <th>26</th>\n",
       "      <td>Appliances</td>\n",
       "      <td>1.070000e+03</td>\n",
       "    </tr>\n",
       "  </tbody>\n",
       "</table>\n",
       "</div>"
      ],
      "text/plain": [
       "       Features  Linear_Model_Weight\n",
       "0            T2        -3.867964e-13\n",
       "1          RH_2        -3.323334e-13\n",
       "2          RH_6        -3.228580e-13\n",
       "3          RH_3        -2.729098e-13\n",
       "4            T8        -2.719114e-13\n",
       "5   Press_mm_hg        -2.583051e-13\n",
       "6            T3        -1.918566e-13\n",
       "7         T_out        -1.670122e-13\n",
       "8            T9        -1.492419e-13\n",
       "9          RH_1        -8.888666e-14\n",
       "10   Visibility        -8.050658e-14\n",
       "11         RH_4        -6.243612e-14\n",
       "12       RH_out        -4.161720e-14\n",
       "13           T4         2.446370e-14\n",
       "14         RH_7         3.947611e-14\n",
       "15          rv2         4.777744e-14\n",
       "16          rv1         4.777744e-14\n",
       "17    Tdewpoint         7.637081e-14\n",
       "18    Windspeed         7.806422e-14\n",
       "19           T5         1.018213e-13\n",
       "20           T7         1.039729e-13\n",
       "21           T1         1.145308e-13\n",
       "22         RH_5         1.201787e-13\n",
       "23           T6         2.312700e-13\n",
       "24         RH_9         2.329459e-13\n",
       "25         RH_8         4.025120e-13\n",
       "26   Appliances         1.070000e+03"
      ]
     },
     "execution_count": 90,
     "metadata": {},
     "output_type": "execute_result"
    }
   ],
   "source": [
    "linear_model_weights = get_weights_energydata(linear_model, x_train, 'Linear_Model_Weight')\n",
    "linear_model_weights.sort_values(by=['Linear_Model_Weight'],ascending=True)\n",
    "\n",
    "# print(linear_model_weights)"
   ]
  },
  {
   "cell_type": "code",
   "execution_count": 91,
   "id": "bab2c49e",
   "metadata": {},
   "outputs": [
    {
     "data": {
      "text/plain": [
       "0.34"
      ]
     },
     "execution_count": 91,
     "metadata": {},
     "output_type": "execute_result"
    }
   ],
   "source": [
    "from sklearn.linear_model import Ridge\n",
    "\n",
    "ridge_reg = Ridge(alpha= 0.4)\n",
    "ridge_reg.fit(x_train, y_train)\n",
    "\n",
    "predicted_values = ridge_reg.predict(x_test)\n",
    "from sklearn.metrics import mean_squared_error\n",
    "rmse = np.sqrt(mean_squared_error(y_test, predicted_values))\n",
    "round(rmse, 3)\n",
    "\n"
   ]
  },
  {
   "cell_type": "code",
   "execution_count": 92,
   "id": "5d339748",
   "metadata": {},
   "outputs": [
    {
     "data": {
      "text/plain": [
       "Lasso(alpha=0.001)"
      ]
     },
     "execution_count": 92,
     "metadata": {},
     "output_type": "execute_result"
    }
   ],
   "source": [
    "from sklearn.linear_model import Lasso\n",
    "\n",
    "lasso_reg = Lasso(alpha= 0.001)\n",
    "lasso_reg.fit(x_train, y_train)"
   ]
  },
  {
   "cell_type": "code",
   "execution_count": 93,
   "id": "b7631501",
   "metadata": {},
   "outputs": [],
   "source": [
    "def get_weights_energydata(model, feat, col_name) :\n",
    "#this function returns the weight of every feature\n",
    "    weights = pd.Series(model.coef_, feat.columns).sort_values()\n",
    "    weights_energydata = pd.DataFrame(weights).reset_index()\n",
    "    weights_energydata.columns = ['Features', col_name]\n",
    "    weights_energydata[col_name].round(3)\n",
    "    return weights_energydata"
   ]
  },
  {
   "cell_type": "code",
   "execution_count": 94,
   "id": "1375bab3",
   "metadata": {},
   "outputs": [
    {
     "name": "stdout",
     "output_type": "stream",
     "text": [
      "       Features  Lasso_Model_Weight\n",
      "0            T7            0.000000\n",
      "1     Tdewpoint            0.000000\n",
      "2    Visibility            0.000000\n",
      "3     Windspeed            0.000000\n",
      "4        RH_out           -0.000000\n",
      "5   Press_mm_hg           -0.000000\n",
      "6         T_out            0.000000\n",
      "7          RH_9           -0.000000\n",
      "8            T9            0.000000\n",
      "9          RH_8           -0.000000\n",
      "10           T8            0.000000\n",
      "11         RH_7           -0.000000\n",
      "12          rv1           -0.000000\n",
      "13          rv2           -0.000000\n",
      "14           T6            0.000000\n",
      "15         RH_5            0.000000\n",
      "16           T5            0.000000\n",
      "17         RH_4            0.000000\n",
      "18           T4            0.000000\n",
      "19         RH_3            0.000000\n",
      "20           T3            0.000000\n",
      "21         RH_2           -0.000000\n",
      "22           T2            0.000000\n",
      "23         RH_1            0.000000\n",
      "24           T1            0.000000\n",
      "25         RH_6           -0.000000\n",
      "26   Appliances         1069.891991\n"
     ]
    }
   ],
   "source": [
    "lasso_model_weights = get_weights_energydata(lasso_reg, x_train, 'Lasso_Model_Weight')\n",
    "print(lasso_model_weights)"
   ]
  },
  {
   "cell_type": "code",
   "execution_count": 69,
   "id": "037a1066",
   "metadata": {},
   "outputs": [
    {
     "data": {
      "text/plain": [
       "0.01"
      ]
     },
     "execution_count": 69,
     "metadata": {},
     "output_type": "execute_result"
    }
   ],
   "source": [
    "from sklearn.linear_model import Lasso\n",
    "\n",
    "lasso_reg = Lasso(alpha= 0.001)\n",
    "lasso_reg.fit(x_train, y_train)\n",
    "predicted_values = lasso_reg.predict(x_test)\n",
    "from sklearn.metrics import mean_squared_error\n",
    "rmse = np.sqrt(mean_squared_error(y_test, predicted_values))\n",
    "round(rmse, 3)"
   ]
  },
  {
   "cell_type": "code",
   "execution_count": null,
   "id": "6ce6a99f",
   "metadata": {},
   "outputs": [],
   "source": []
  }
 ],
 "metadata": {
  "kernelspec": {
   "display_name": "Python 3 (ipykernel)",
   "language": "python",
   "name": "python3"
  },
  "language_info": {
   "codemirror_mode": {
    "name": "ipython",
    "version": 3
   },
   "file_extension": ".py",
   "mimetype": "text/x-python",
   "name": "python",
   "nbconvert_exporter": "python",
   "pygments_lexer": "ipython3",
   "version": "3.9.7"
  }
 },
 "nbformat": 4,
 "nbformat_minor": 5
}
